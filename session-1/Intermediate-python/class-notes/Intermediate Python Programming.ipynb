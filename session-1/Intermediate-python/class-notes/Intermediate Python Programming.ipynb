{
 "cells": [
  {
   "cell_type": "markdown",
   "id": "48a647a5",
   "metadata": {},
   "source": [
    "## Intermediate Python Programming\n",
    "\n",
    "- Functions, Types and Hints, Docstrings\n",
    "- Errors and Exceptions\n",
    "- Exception Handling\n",
    "- Context Managers\n",
    "- Comprehensions\n",
    "- Generators and Iterators\n",
    "- Decorators\n",
    "- Modules and Packages\n",
    "- Stdlibs\n",
    "- Performance Optimization (Numpy, Pandas)"
   ]
  },
  {
   "cell_type": "markdown",
   "id": "1d125890",
   "metadata": {},
   "source": [
    "### Functions, Types and Hints, Docstrings"
   ]
  },
  {
   "cell_type": "code",
   "execution_count": 3,
   "id": "72b0afb7",
   "metadata": {},
   "outputs": [
    {
     "name": "stdout",
     "output_type": "stream",
     "text": [
      "0\n"
     ]
    }
   ],
   "source": [
    "def hello_world(name: str) -> int:\n",
    "    \"\"\"A simple function that greets the person whose name is passed as an argument.\"\"\"\n",
    "    text = \"Hello, \" + name + \"!\"\n",
    "    return 0\n",
    "\n",
    "print(hello_world(\"Alice\"))"
   ]
  },
  {
   "cell_type": "code",
   "execution_count": 4,
   "id": "ba8e32d0",
   "metadata": {},
   "outputs": [
    {
     "data": {
      "text/plain": [
       "0"
      ]
     },
     "execution_count": 4,
     "metadata": {},
     "output_type": "execute_result"
    }
   ],
   "source": [
    "hello_world(\"Bob\")"
   ]
  },
  {
   "cell_type": "code",
   "execution_count": 15,
   "id": "f94f3aba",
   "metadata": {},
   "outputs": [],
   "source": [
    "def hello_world(name: str) -> str:\n",
    "    \"\"\"Returns a greeting message for the given name.\"\"\"\n",
    "    try:\n",
    "        return \"Hello, \" + name + \"!\"\n",
    "    except Exception:\n",
    "        return \"Invalid input: name must be a string.\"\n",
    "    else:\n",
    "        return \"Function executed successfully.\"\n",
    "    finally:\n",
    "        print(\"Function executed.\")"
   ]
  },
  {
   "cell_type": "code",
   "execution_count": 16,
   "id": "46f60469",
   "metadata": {},
   "outputs": [
    {
     "name": "stdout",
     "output_type": "stream",
     "text": [
      "Function executed.\n"
     ]
    },
    {
     "data": {
      "text/plain": [
       "'Invalid input: name must be a string.'"
      ]
     },
     "execution_count": 16,
     "metadata": {},
     "output_type": "execute_result"
    }
   ],
   "source": [
    "hello_world(1)"
   ]
  },
  {
   "cell_type": "code",
   "execution_count": 14,
   "id": "09b78ded",
   "metadata": {},
   "outputs": [
    {
     "data": {
      "text/plain": [
       "Exception"
      ]
     },
     "execution_count": 14,
     "metadata": {},
     "output_type": "execute_result"
    }
   ],
   "source": [
    "Exception"
   ]
  },
  {
   "cell_type": "markdown",
   "id": "d48adb6f",
   "metadata": {},
   "source": [
    "## Context Managers"
   ]
  },
  {
   "cell_type": "code",
   "execution_count": null,
   "id": "0f6ec5b3",
   "metadata": {},
   "outputs": [],
   "source": [
    "with open(\"example.txt\", \"w\") as file:\n",
    "    file.write(\"This is an example of using a context manager in Python.\\n\")"
   ]
  },
  {
   "cell_type": "markdown",
   "id": "16bc1547",
   "metadata": {},
   "source": [
    "----- opens a file ---\n",
    "--- Does what the code inside the block says ---\n",
    "----- closes the file -----"
   ]
  },
  {
   "cell_type": "code",
   "execution_count": 19,
   "id": "cb6ff65e",
   "metadata": {},
   "outputs": [
    {
     "name": "stdout",
     "output_type": "stream",
     "text": [
      "Total: 499999500000\n",
      "Calculate sum: 0.0149 seconds\n"
     ]
    }
   ],
   "source": [
    "from contextlib import contextmanager\n",
    "import time\n",
    "\n",
    "@contextmanager\n",
    "def timer(label: str):\n",
    "    start = time.time()\n",
    "    try:\n",
    "        yield\n",
    "    finally:\n",
    "        end = time.time()\n",
    "        print(f\"{label}: {end - start:.4f} seconds\")\n",
    "\n",
    "with timer(\"Calculate sum\"):\n",
    "    total = sum(range(1, 1000000))\n",
    "    print(f\"Total: {total}\")"
   ]
  },
  {
   "cell_type": "markdown",
   "id": "9631e3ec",
   "metadata": {},
   "source": [
    "## iterables, Generators and Comprehensions"
   ]
  },
  {
   "cell_type": "code",
   "execution_count": 20,
   "id": "fd6b4a68",
   "metadata": {},
   "outputs": [
    {
     "name": "stdout",
     "output_type": "stream",
     "text": [
      "0\n",
      "1\n",
      "2\n",
      "3\n",
      "4\n"
     ]
    }
   ],
   "source": [
    "for i in range(5):\n",
    "    print(i)"
   ]
  },
  {
   "cell_type": "code",
   "execution_count": 23,
   "id": "c454c0e7",
   "metadata": {},
   "outputs": [
    {
     "data": {
      "text/plain": [
       "<range_iterator at 0x1053e8630>"
      ]
     },
     "execution_count": 23,
     "metadata": {},
     "output_type": "execute_result"
    }
   ],
   "source": [
    "range(5).__iter__()"
   ]
  },
  {
   "cell_type": "code",
   "execution_count": null,
   "id": "be963b5b",
   "metadata": {},
   "outputs": [
    {
     "name": "stdout",
     "output_type": "stream",
     "text": [
      "Lorep Ipsum Lorep IpsumLorep IpsumLorep IpsumLorep IpsumLorep IpsumLorep IpsumLorep IpsumLorep IpsumLorep Ipsum\n",
      "Lorep Ipsum Lorep IpsumLorep IpsumLorep IpsumLorep IpsumLorep IpsumLorep IpsumLorep IpsumLorep IpsumLorep Ipsum\n",
      "Lorep Ipsum Lorep IpsumLorep IpsumLorep IpsumLorep IpsumLorep IpsumLorep IpsumLorep IpsumLorep IpsumLorep Ipsum\n",
      "Lorep Ipsum Lorep IpsumLorep IpsumLorep IpsumLorep IpsumLorep IpsumLorep IpsumLorep IpsumLorep IpsumLorep Ipsum\n",
      "Lorep Ipsum Lorep IpsumLorep IpsumLorep IpsumLorep IpsumLorep IpsumLorep IpsumLorep IpsumLorep IpsumLorep Ipsum\n",
      "Lorep Ipsum Lorep IpsumLorep IpsumLorep IpsumLorep IpsumLorep IpsumLorep IpsumLorep IpsumLorep IpsumLorep Ipsum\n",
      "Lorep Ipsum Lorep IpsumLorep IpsumLorep IpsumLorep IpsumLorep IpsumLorep IpsumLorep IpsumLorep IpsumLorep Ipsum\n",
      "Lorep Ipsum Lorep IpsumLorep IpsumLorep IpsumLorep IpsumLorep IpsumLorep IpsumLorep IpsumLorep IpsumLorep Ipsum\n",
      "v\n",
      "Lorep Ipsum Lorep IpsumLorep IpsumLorep IpsumLorep IpsumLorep IpsumLorep IpsumLorep IpsumLorep IpsumLorep Ipsum\n",
      "Lorep Ipsum Lorep IpsumLorep IpsumLorep IpsumLorep IpsumLorep IpsumLorep IpsumLorep IpsumLorep IpsumLorep Ipsum\n",
      "Lorep Ipsum Lorep IpsumLorep IpsumLorep IpsumLorep IpsumLorep IpsumLorep IpsumLorep IpsumLorep IpsumLorep Ipsum\n",
      "Lorep Ipsum Lorep IpsumLorep IpsumLorep IpsumLorep IpsumLorep IpsumLorep IpsumLorep IpsumLorep IpsumLorep Ipsum\n",
      "v\n",
      "v\n",
      "Lorep Ipsum Lorep IpsumLorep IpsumLorep IpsumLorep IpsumLorep IpsumLorep IpsumLorep IpsumLorep IpsumLorep Ipsum\n",
      "Lorep Ipsum Lorep IpsumLorep IpsumLorep IpsumLorep IpsumLorep IpsumLorep IpsumLorep IpsumLorep IpsumLorep Ipsum\n",
      "v\n",
      "v\n",
      "v\n",
      "v\n",
      "\n",
      "v\n",
      "\n",
      "Lorep Ipsum Lorep IpsumLorep IpsumLorep IpsumLorep IpsumLorep IpsumLorep IpsumLorep IpsumLorep IpsumLorep Ipsum\n",
      "Lorep Ipsum Lorep IpsumLorep IpsumLorep IpsumLorep IpsumLorep IpsumLorep IpsumLorep IpsumLorep IpsumLorep IpsumvLorep Ipsum Lorep IpsumLorep IpsumLorep IpsumLorep IpsumLorep IpsumLorep IpsumLorep IpsumLorep IpsumLorep Ipsum\n",
      "Lorep Ipsum Lorep IpsumLorep IpsumLorep IpsumLorep IpsumLorep IpsumLorep IpsumLorep IpsumLorep IpsumLorep Ipsum\n"
     ]
    }
   ],
   "source": []
  },
  {
   "cell_type": "code",
   "execution_count": 28,
   "id": "25e1be01",
   "metadata": {},
   "outputs": [
    {
     "name": "stdout",
     "output_type": "stream",
     "text": [
      "['Lorep Ipsum Lorep IpsumLorep IpsumLorep IpsumLorep IpsumLorep IpsumLorep IpsumLorep IpsumLorep IpsumLorep Ipsum\\n', 'Lorep Ipsum Lorep IpsumLorep IpsumLorep IpsumLorep IpsumLorep IpsumLorep IpsumLorep IpsumLorep IpsumLorep Ipsum\\n', 'Lorep Ipsum Lorep IpsumLorep IpsumLorep IpsumLorep IpsumLorep IpsumLorep IpsumLorep IpsumLorep IpsumLorep Ipsum\\n', 'Lorep Ipsum Lorep IpsumLorep IpsumLorep IpsumLorep IpsumLorep IpsumLorep IpsumLorep IpsumLorep IpsumLorep Ipsum\\n', 'Lorep Ipsum Lorep IpsumLorep IpsumLorep IpsumLorep IpsumLorep IpsumLorep IpsumLorep IpsumLorep IpsumLorep Ipsum\\n', 'Lorep Ipsum Lorep IpsumLorep IpsumLorep IpsumLorep IpsumLorep IpsumLorep IpsumLorep IpsumLorep IpsumLorep Ipsum\\n', 'Lorep Ipsum Lorep IpsumLorep IpsumLorep IpsumLorep IpsumLorep IpsumLorep IpsumLorep IpsumLorep IpsumLorep Ipsum\\n', 'Lorep Ipsum Lorep IpsumLorep IpsumLorep IpsumLorep IpsumLorep IpsumLorep IpsumLorep IpsumLorep IpsumLorep Ipsum\\n', 'v\\n', 'Lorep Ipsum Lorep IpsumLorep IpsumLorep IpsumLorep IpsumLorep IpsumLorep IpsumLorep IpsumLorep IpsumLorep Ipsum\\n', 'Lorep Ipsum Lorep IpsumLorep IpsumLorep IpsumLorep IpsumLorep IpsumLorep IpsumLorep IpsumLorep IpsumLorep Ipsum\\n', 'Lorep Ipsum Lorep IpsumLorep IpsumLorep IpsumLorep IpsumLorep IpsumLorep IpsumLorep IpsumLorep IpsumLorep Ipsum\\n', 'Lorep Ipsum Lorep IpsumLorep IpsumLorep IpsumLorep IpsumLorep IpsumLorep IpsumLorep IpsumLorep IpsumLorep Ipsum\\n', 'v\\n', 'v\\n', 'Lorep Ipsum Lorep IpsumLorep IpsumLorep IpsumLorep IpsumLorep IpsumLorep IpsumLorep IpsumLorep IpsumLorep Ipsum\\n', 'Lorep Ipsum Lorep IpsumLorep IpsumLorep IpsumLorep IpsumLorep IpsumLorep IpsumLorep IpsumLorep IpsumLorep Ipsum\\n', 'v\\n', 'v\\n', 'v\\n', 'v\\n', '\\n', 'v\\n', '\\n', 'Lorep Ipsum Lorep IpsumLorep IpsumLorep IpsumLorep IpsumLorep IpsumLorep IpsumLorep IpsumLorep IpsumLorep Ipsum\\n', 'Lorep Ipsum Lorep IpsumLorep IpsumLorep IpsumLorep IpsumLorep IpsumLorep IpsumLorep IpsumLorep IpsumLorep IpsumvLorep Ipsum Lorep IpsumLorep IpsumLorep IpsumLorep IpsumLorep IpsumLorep IpsumLorep IpsumLorep IpsumLorep Ipsum\\n', 'Lorep Ipsum Lorep IpsumLorep IpsumLorep IpsumLorep IpsumLorep IpsumLorep IpsumLorep IpsumLorep IpsumLorep Ipsum']\n"
     ]
    }
   ],
   "source": [
    "with open(\"example.txt\", \"r\") as file:\n",
    "    lines = file.readlines()\n",
    "    print(lines)"
   ]
  },
  {
   "cell_type": "code",
   "execution_count": 29,
   "id": "e9d6e798",
   "metadata": {},
   "outputs": [],
   "source": [
    "def get_primes(n: int):\n",
    "    \"\"\"A generator function that yields prime numbers up to n.\"\"\"\n",
    "    for num in range(2, n + 1):\n",
    "        is_prime = True\n",
    "        for i in range(2, int(num**0.5) + 1):\n",
    "            if num % i == 0:\n",
    "                is_prime = False\n",
    "                break\n",
    "        if is_prime:\n",
    "            yield num"
   ]
  },
  {
   "cell_type": "code",
   "execution_count": 33,
   "id": "abe25de2",
   "metadata": {},
   "outputs": [],
   "source": [
    "primes = get_primes(20)"
   ]
  },
  {
   "cell_type": "code",
   "execution_count": 32,
   "id": "fb3d1ba4",
   "metadata": {},
   "outputs": [
    {
     "data": {
      "text/plain": [
       "2"
      ]
     },
     "execution_count": 32,
     "metadata": {},
     "output_type": "execute_result"
    }
   ],
   "source": [
    "primes.__next__()"
   ]
  },
  {
   "cell_type": "code",
   "execution_count": 35,
   "id": "b4840c3b",
   "metadata": {},
   "outputs": [
    {
     "name": "stdout",
     "output_type": "stream",
     "text": [
      "13\n",
      "17\n",
      "19\n"
     ]
    }
   ],
   "source": [
    "for prime in primes:\n",
    "    if prime < 10:\n",
    "        break\n",
    "    print(prime)"
   ]
  },
  {
   "cell_type": "code",
   "execution_count": 37,
   "id": "9a5e3d45",
   "metadata": {},
   "outputs": [
    {
     "name": "stdout",
     "output_type": "stream",
     "text": [
      "The median is: 6\n"
     ]
    }
   ],
   "source": [
    "import statistics\n",
    "\n",
    "data = [1, 3, 3, 6, 7, 8, 9]\n",
    "median_value = statistics.median(data)\n",
    "print(f\"The median is: {median_value}\")"
   ]
  },
  {
   "cell_type": "markdown",
   "id": "044a8b33",
   "metadata": {},
   "source": [
    "Exercise\n",
    "\n",
    "\n",
    "Override the statistics.median function to compute the moving median of a list of numbers. (Hint: Use a generator to yield the median after each new number is added to the list.)"
   ]
  },
  {
   "cell_type": "code",
   "execution_count": 42,
   "id": "225f8ae9",
   "metadata": {},
   "outputs": [
    {
     "name": "stdout",
     "output_type": "stream",
     "text": [
      "After adding 1, the moving median is: 1\n",
      "After adding 3, the moving median is: 2.0\n",
      "After adding 3, the moving median is: 3\n",
      "After adding 6, the moving median is: 3.0\n",
      "After adding 7, the moving median is: 3\n",
      "After adding 8, the moving median is: 4.5\n",
      "After adding 9, the moving median is: 6\n"
     ]
    }
   ],
   "source": [
    "data = [1, 3, 3, 6, 7, 8, 9]\n",
    "\n",
    "for x in range(len(data)):\n",
    "    current_data = data[: x + 1]\n",
    "    median_value = statistics.median(current_data)\n",
    "    print(f\"After adding {data[x]}, the moving median is: {median_value}\")"
   ]
  },
  {
   "cell_type": "code",
   "execution_count": 41,
   "id": "10814bc3",
   "metadata": {},
   "outputs": [
    {
     "name": "stdout",
     "output_type": "stream",
     "text": [
      "The median is: 6\n",
      "Moving medians:\n",
      "1\n",
      "2.0\n",
      "3\n",
      "3.0\n",
      "3\n",
      "4.5\n",
      "6\n"
     ]
    }
   ],
   "source": [
    "\n",
    "# Exercise\n",
    "\n",
    "# Override the statistics.median function to compute the moving median of a list of numbers. (Hint: Use a generator to yield the median after each new number is added to the list.)\n",
    "\n",
    "def moving_median(data):\n",
    "    \"\"\"A generator function that yields the moving median of a list of numbers.\"\"\"\n",
    "    sorted_data = []\n",
    "    for number in data:\n",
    "        sorted_data.append(number)\n",
    "        sorted_data.sort()\n",
    "        yield statistics.median(sorted_data)\n",
    "data = [1, 3, 3, 6, 7, 8, 9]\n",
    "median_value = statistics.median(data)\n",
    "print(f\"The median is: {median_value}\")\n",
    "moving_median_value = moving_median(data)\n",
    "print(\"Moving medians:\")\n",
    "for median in moving_median_value:\n",
    "    print(median)"
   ]
  },
  {
   "cell_type": "code",
   "execution_count": 43,
   "id": "555c7876",
   "metadata": {},
   "outputs": [
    {
     "data": {
      "text/plain": [
       "<generator object moving_median at 0x1057f73e0>"
      ]
     },
     "execution_count": 43,
     "metadata": {},
     "output_type": "execute_result"
    }
   ],
   "source": [
    "statistics.median = moving_median\n",
    "\n",
    "statistics.median(data)"
   ]
  },
  {
   "cell_type": "code",
   "execution_count": null,
   "id": "d7437326",
   "metadata": {},
   "outputs": [],
   "source": [
    "data = [1, 3, 3, 6, 7, 8, 9]\n",
    "median_value = statistics.median(data)\n",
    "print(f\"The median is: {median_value}\")\n",
    "\n",
    "moving_median_value = moving_median("
   ]
  },
  {
   "cell_type": "markdown",
   "id": "bdf9a9d1",
   "metadata": {},
   "source": [
    "## Performance Optimization (Numpy, Pandas)"
   ]
  },
  {
   "cell_type": "code",
   "execution_count": 44,
   "id": "ec346310",
   "metadata": {},
   "outputs": [
    {
     "name": "stdout",
     "output_type": "stream",
     "text": [
      "Matrix product:\n",
      "[30, 24, 18]\n",
      "[84, 69, 54]\n",
      "[138, 114, 90]\n",
      "Matrix multiplication: 0.0001 seconds\n"
     ]
    }
   ],
   "source": [
    "mat_1 = [[1, 2, 3], [4, 5, 6], [7, 8, 9]]\n",
    "mat_2 = [[9, 8, 7], [6, 5, 4], [3, 2, 1]]\n",
    "\n",
    "def calculate_matrix_product(mat_1, mat_2):\n",
    "    result = [[0 for _ in range(len(mat_2[0]))] for _ in range(len(mat_1))]\n",
    "    for i in range(len(mat_1)):\n",
    "        for j in range(len(mat_2[0])):\n",
    "            for k in range(len(mat_2)):\n",
    "                result[i][j] += mat_1[i][k] * mat_2[k][j]\n",
    "    return result\n",
    "\n",
    "with timer(\"Matrix multiplication\"):\n",
    "    product = calculate_matrix_product(mat_1, mat_2)\n",
    "    print(\"Matrix product:\")\n",
    "    for row in product:\n",
    "        print(row)"
   ]
  },
  {
   "cell_type": "code",
   "execution_count": 2,
   "id": "bbcb089e",
   "metadata": {},
   "outputs": [
    {
     "name": "stdout",
     "output_type": "stream",
     "text": [
      "Requirement already satisfied: numpy in /opt/miniconda3/lib/python3.13/site-packages (2.3.0)\n",
      "Requirement already satisfied: pandas in /opt/miniconda3/lib/python3.13/site-packages (2.3.0)\n",
      "Requirement already satisfied: python-dateutil>=2.8.2 in /opt/miniconda3/lib/python3.13/site-packages (from pandas) (2.9.0.post0)\n",
      "Requirement already satisfied: pytz>=2020.1 in /opt/miniconda3/lib/python3.13/site-packages (from pandas) (2025.2)\n",
      "Requirement already satisfied: tzdata>=2022.7 in /opt/miniconda3/lib/python3.13/site-packages (from pandas) (2025.2)\n",
      "Requirement already satisfied: six>=1.5 in /opt/miniconda3/lib/python3.13/site-packages (from python-dateutil>=2.8.2->pandas) (1.17.0)\n"
     ]
    }
   ],
   "source": [
    "!pip install numpy pandas"
   ]
  },
  {
   "cell_type": "code",
   "execution_count": 3,
   "id": "840b410e",
   "metadata": {},
   "outputs": [
    {
     "ename": "ModuleNotFoundError",
     "evalue": "No module named 'numpy'",
     "output_type": "error",
     "traceback": [
      "\u001b[31m---------------------------------------------------------------------------\u001b[39m",
      "\u001b[31mModuleNotFoundError\u001b[39m                       Traceback (most recent call last)",
      "\u001b[36mCell\u001b[39m\u001b[36m \u001b[39m\u001b[32mIn[3]\u001b[39m\u001b[32m, line 1\u001b[39m\n\u001b[32m----> \u001b[39m\u001b[32m1\u001b[39m \u001b[38;5;28;01mimport\u001b[39;00m\u001b[38;5;250m \u001b[39m\u001b[34;01mnumpy\u001b[39;00m\u001b[38;5;250m \u001b[39m\u001b[38;5;28;01mas\u001b[39;00m\u001b[38;5;250m \u001b[39m\u001b[34;01mnp\u001b[39;00m\n\u001b[32m      3\u001b[39m mat_1_np = np.array(mat_1)\n\u001b[32m      4\u001b[39m mat_2_np = np.array(mat_2)\n",
      "\u001b[31mModuleNotFoundError\u001b[39m: No module named 'numpy'"
     ]
    }
   ],
   "source": [
    "import numpy as np\n",
    "\n",
    "mat_1_np = np.array(mat_1)\n",
    "mat_2_np = np.array(mat_2)\n",
    "\n",
    "def calculate_matrix_product_np(mat_1, mat_2):\n",
    "    return np.dot(mat_1, mat_2)\n",
    "\n",
    "with timer(\"Matrix multiplication (NumPy)\"):\n",
    "    product_np = calculate_matrix_product_np(mat_1_np, mat_2_np)\n",
    "    print(\"Matrix product (NumPy):\")\n",
    "    print(product_np)"
   ]
  },
  {
   "cell_type": "code",
   "execution_count": null,
   "id": "5cac789e",
   "metadata": {},
   "outputs": [],
   "source": [
    "## SIMD, Contiguous Memory, BLAS, LAPACK"
   ]
  },
  {
   "cell_type": "code",
   "execution_count": null,
   "id": "7a4fb47a",
   "metadata": {},
   "outputs": [],
   "source": []
  }
 ],
 "metadata": {
  "kernelspec": {
   "display_name": "Python 3",
   "language": "python",
   "name": "python3"
  },
  "language_info": {
   "codemirror_mode": {
    "name": "ipython",
    "version": 3
   },
   "file_extension": ".py",
   "mimetype": "text/x-python",
   "name": "python",
   "nbconvert_exporter": "python",
   "pygments_lexer": "ipython3",
   "version": "3.12.8"
  }
 },
 "nbformat": 4,
 "nbformat_minor": 5
}
